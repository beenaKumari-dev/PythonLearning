{
 "cells": [
  {
   "cell_type": "code",
   "execution_count": 39,
   "metadata": {},
   "outputs": [
    {
     "name": "stdout",
     "output_type": "stream",
     "text": [
      "name found is Beena\n",
      "[' is', ' is']\n",
      "['My', 'name', 'is', 'Beena', 'and', 'this', 'is', 'my', 'regex', 'code', 'file']\n",
      "name found is Beena\n",
      "['name', 'Beena']\n",
      "My name is nitish and this is my regex code file\n",
      "My name was Beena and thwas is my regex code file\n",
      "5\n"
     ]
    }
   ],
   "source": [
    "#Regex\n",
    "import re\n",
    "\n",
    "firstsentence = 'My name is Beena and this is my regex code file'\n",
    "#search\n",
    "if re.search(r'name\\s+is\\s+(\\w+)\\s+',firstsentence,re.I):\n",
    "    print('name found is',re.search(r'name\\s+is\\s+(\\w+)\\s+',firstsentence,re.I|re.S).group(1))\n",
    "else:\n",
    "    print('not found')\n",
    "\n",
    "#findall\n",
    "lst1 = re.findall('\\s+is',firstsentence)\n",
    "print(lst1)\n",
    "#split\n",
    "lst = re.split('\\s+',firstsentence)\n",
    "print(lst)\n",
    "#exact len match\n",
    "print('name found is',re.search(r'name\\s+is\\s+(\\w{5})\\s+',firstsentence,re.I|re.S).group(1))\n",
    "#or \n",
    "pattern = r\"beena|name\"\n",
    "lst = re.findall(pattern,firstsentence,flags=re.I)\n",
    "print(lst)\n",
    "#The sub() \n",
    "replacevalue = re.sub('beena','nitish',firstsentence,flags=re.I)\n",
    "print(replacevalue)\n",
    "#Replace the first 2 occurrences:\n",
    "replacevalue = re.sub('is','was',firstsentence,2,flags=re.I)\n",
    "print(replacevalue)\n",
    "txt = 'The rain in Spain'\n",
    "x = re.search('a', txt)\n",
    "print(x.start()) #gets the index of match found"
   ]
  },
  {
   "cell_type": "code",
   "execution_count": 40,
   "metadata": {},
   "outputs": [
    {
     "name": "stdin",
     "output_type": "stream",
     "text": [
      "Enter your name: beena\n"
     ]
    },
    {
     "name": "stdout",
     "output_type": "stream",
     "text": [
      "Name entered is  beena\n"
     ]
    }
   ],
   "source": [
    "#user input\n",
    "inp = input('Enter your name:')\n",
    "print('Name entered is ',inp)"
   ]
  },
  {
   "cell_type": "code",
   "execution_count": 43,
   "metadata": {},
   "outputs": [
    {
     "name": "stdout",
     "output_type": "stream",
     "text": [
      "<re.Match object; span=(5, 6), match='a'>\n"
     ]
    }
   ],
   "source": []
  }
 ],
 "metadata": {
  "kernelspec": {
   "display_name": "Python 3",
   "language": "python",
   "name": "python3"
  },
  "language_info": {
   "codemirror_mode": {
    "name": "ipython",
    "version": 3
   },
   "file_extension": ".py",
   "mimetype": "text/x-python",
   "name": "python",
   "nbconvert_exporter": "python",
   "pygments_lexer": "ipython3",
   "version": "3.7.6"
  }
 },
 "nbformat": 4,
 "nbformat_minor": 4
}
