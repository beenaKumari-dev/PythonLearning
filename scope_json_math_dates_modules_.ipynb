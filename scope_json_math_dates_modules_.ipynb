{
 "cells": [
  {
   "cell_type": "code",
   "execution_count": 1,
   "metadata": {},
   "outputs": [
    {
     "name": "stdout",
     "output_type": "stream",
     "text": [
      "10\n"
     ]
    }
   ],
   "source": [
    "#Scope:A variable is only available from inside the region it is created. This is called scope.\n",
    "#local scope\n",
    "def func():\n",
    "    x = 10 #local variable scope\n",
    "    def printfunc():\n",
    "        print(x)\n",
    "    printfunc()\n",
    "func()"
   ]
  },
  {
   "cell_type": "code",
   "execution_count": 3,
   "metadata": {},
   "outputs": [
    {
     "name": "stdout",
     "output_type": "stream",
     "text": [
      "10\n"
     ]
    }
   ],
   "source": [
    "#Global Scope\n",
    "x = 10 #global variable scope\n",
    "def func():\n",
    "    def printfunc():\n",
    "        print(x)\n",
    "    printfunc()\n",
    "func()"
   ]
  },
  {
   "cell_type": "code",
   "execution_count": 5,
   "metadata": {},
   "outputs": [
    {
     "name": "stdout",
     "output_type": "stream",
     "text": [
      "10\n",
      "20\n"
     ]
    }
   ],
   "source": [
    "#Global Keyword\n",
    "x = 10 #global variable scope\n",
    "def func():\n",
    "    global x \n",
    "    x = 20\n",
    "print(x)\n",
    "func()\n",
    "print(x)"
   ]
  },
  {
   "cell_type": "code",
   "execution_count": 15,
   "metadata": {},
   "outputs": [
    {
     "name": "stdout",
     "output_type": "stream",
     "text": [
      "global\n",
      "local\n",
      "nonlocal\n"
     ]
    }
   ],
   "source": [
    "#Nonlocal Keyword:The nonlocal keyword is used to work with variables inside nested functions.\n",
    "x = 'global'\n",
    "def func():\n",
    "    x = 'local' #local variable scope\n",
    "    print(x)\n",
    "    def printfunc():\n",
    "        nonlocal x\n",
    "        x = 'nonlocal' #nonlocal\n",
    "    printfunc()\n",
    "    return x\n",
    "print(x)\n",
    "print(func())"
   ]
  },
  {
   "cell_type": "code",
   "execution_count": null,
   "metadata": {},
   "outputs": [],
   "source": [
    "def newmodule():\n",
    "    print('my module')\n",
    "import filename\n",
    "\n",
    "filename.newmodule()\n",
    "#this will print my module"
   ]
  },
  {
   "cell_type": "code",
   "execution_count": 18,
   "metadata": {},
   "outputs": [
    {
     "name": "stdout",
     "output_type": "stream",
     "text": [
      "Windows\n",
      "['__breakpointhook__', '__displayhook__', '__doc__', '__excepthook__', '__interactivehook__', '__loader__', '__name__', '__package__', '__spec__', '__stderr__', '__stdin__', '__stdout__', '_base_executable', '_clear_type_cache', '_current_frames', '_debugmallocstats', '_enablelegacywindowsfsencoding', '_framework', '_getframe', '_git', '_home', '_xoptions', 'api_version', 'argv', 'base_exec_prefix', 'base_prefix', 'breakpointhook', 'builtin_module_names', 'byteorder', 'call_tracing', 'callstats', 'copyright', 'displayhook', 'dllhandle', 'dont_write_bytecode', 'exc_info', 'excepthook', 'exec_prefix', 'executable', 'exit', 'flags', 'float_info', 'float_repr_style', 'get_asyncgen_hooks', 'get_coroutine_origin_tracking_depth', 'get_coroutine_wrapper', 'getallocatedblocks', 'getcheckinterval', 'getdefaultencoding', 'getfilesystemencodeerrors', 'getfilesystemencoding', 'getprofile', 'getrecursionlimit', 'getrefcount', 'getsizeof', 'getswitchinterval', 'gettrace', 'getwindowsversion', 'hash_info', 'hexversion', 'implementation', 'int_info', 'intern', 'is_finalizing', 'last_traceback', 'last_type', 'last_value', 'maxsize', 'maxunicode', 'meta_path', 'modules', 'path', 'path_hooks', 'path_importer_cache', 'platform', 'prefix', 'ps1', 'ps2', 'ps3', 'set_asyncgen_hooks', 'set_coroutine_origin_tracking_depth', 'set_coroutine_wrapper', 'setcheckinterval', 'setprofile', 'setrecursionlimit', 'setswitchinterval', 'settrace', 'stderr', 'stdin', 'stdout', 'thread_info', 'version', 'version_info', 'warnoptions', 'winver']\n"
     ]
    }
   ],
   "source": [
    "#Built-in Modules\n",
    "import platform\n",
    "import sys\n",
    "print(platform.system())\n",
    "print(dir(sys))"
   ]
  },
  {
   "cell_type": "code",
   "execution_count": 39,
   "metadata": {},
   "outputs": [
    {
     "name": "stdout",
     "output_type": "stream",
     "text": [
      "['MAXYEAR', 'MINYEAR', '__builtins__', '__cached__', '__doc__', '__file__', '__loader__', '__name__', '__package__', '__spec__', 'date', 'datetime', 'datetime_CAPI', 'sys', 'time', 'timedelta', 'timezone', 'tzinfo']\n",
      "['__add__', '__class__', '__delattr__', '__dir__', '__doc__', '__eq__', '__format__', '__ge__', '__getattribute__', '__gt__', '__hash__', '__init__', '__init_subclass__', '__le__', '__lt__', '__ne__', '__new__', '__radd__', '__reduce__', '__reduce_ex__', '__repr__', '__rsub__', '__setattr__', '__sizeof__', '__str__', '__sub__', '__subclasshook__', 'astimezone', 'combine', 'ctime', 'date', 'day', 'dst', 'fold', 'fromisoformat', 'fromordinal', 'fromtimestamp', 'hour', 'isocalendar', 'isoformat', 'isoweekday', 'max', 'microsecond', 'min', 'minute', 'month', 'now', 'replace', 'resolution', 'second', 'strftime', 'strptime', 'time', 'timestamp', 'timetuple', 'timetz', 'today', 'toordinal', 'tzinfo', 'tzname', 'utcfromtimestamp', 'utcnow', 'utcoffset', 'utctimetuple', 'weekday', 'year']\n",
      "2025-05-18 10:57:17.135766\n",
      "2025\n",
      "5\n",
      "17\n",
      "Sunday\n"
     ]
    }
   ],
   "source": [
    "#datetime module\n",
    "import datetime\n",
    "print(dir(datetime))\n",
    "print(dir(datetime.datetime))\n",
    "print(datetime.datetime.now())\n",
    "print((datetime.datetime.now()).year)\n",
    "print((datetime.datetime.now()).month)\n",
    "print((datetime.datetime.now()).second)\n",
    "x = datetime.datetime.now()\n",
    "print(x.strftime('%A'))"
   ]
  },
  {
   "cell_type": "code",
   "execution_count": 42,
   "metadata": {},
   "outputs": [
    {
     "name": "stdout",
     "output_type": "stream",
     "text": [
      "2025-05-18 12:15:12.000890\n"
     ]
    }
   ],
   "source": [
    "#Creating date module\n",
    "import datetime\n",
    "\n",
    "x = datetime.datetime(2025,5,18)\n",
    "x = datetime.datetime(2025,5,18,12,15,12,890)#fulltime including microsec\n",
    "print(x)"
   ]
  },
  {
   "cell_type": "code",
   "execution_count": 61,
   "metadata": {},
   "outputs": [
    {
     "name": "stdout",
     "output_type": "stream",
     "text": [
      "Weekday, short version Sun\n",
      "Weekday, full version Sunday\n",
      "Weekday as a number 0-6, 0 is Sunday 0\n",
      "Day of month 01-3118\n",
      "Month, short version May\n",
      "Month, full version May\n",
      "Year, short version 25\n",
      "Year, full version 2025\n",
      "Month, as 0-12 05\n",
      "Hour 00-23 11\n",
      "Hour 00-12 11\n",
      "AM/PM AM\n",
      "Minute 00-59 09\n",
      "Seconds 00-59 26\n",
      "Microsecond 000000-999999 211544\n",
      "Timezone \n",
      "Day number of year 001-366 138\n",
      "Week number of year, Sunday as the first day of week, 00-53 20\n",
      "Week number of year, Monday as the first day of week, 00-53 19\n",
      "Century 20\n",
      "Local version of date 05/18/25\n",
      "Local version of time 11:09:26\n"
     ]
    }
   ],
   "source": [
    "#Strftime\n",
    "import datetime\n",
    "x = datetime.datetime(2025, 5, 18)\n",
    "print('Weekday, short version ' + x.strftime(\"%a\"))\n",
    "print('Weekday, full version ' + x.strftime(\"%A\"))\n",
    "print('Weekday as a number 0-6, 0 is Sunday ' + x.strftime(\"%w\"))\n",
    "print('Day of month 01-31' + x.strftime(\"%d\"))\n",
    "print('Month, short version ' + x.strftime(\"%b\"))\n",
    "print('Month, full version ' + x.strftime(\"%B\"))\n",
    "print('Year, short version ' + x.strftime(\"%y\"))\n",
    "print('Year, full version ' + x.strftime(\"%Y\"))\n",
    "print('Month, as 0-12 ' + x.strftime(\"%m\"))\n",
    "x = datetime.datetime.now()\n",
    "print('Hour 00-23 ' + x.strftime(\"%H\"))\n",
    "print('Hour 00-12 ' + x.strftime(\"%I\"))\n",
    "print('AM/PM ' + x.strftime(\"%p\"))\n",
    "print('Minute 00-59 ' + x.strftime(\"%M\"))\n",
    "print('Seconds 00-59 ' + x.strftime(\"%S\"))\n",
    "print('Microsecond 000000-999999 ' + x.strftime(\"%f\"))\n",
    "print('Timezone ' + x.strftime(\"%Z\"))\n",
    "print('Day number of year 001-366 ' + x.strftime(\"%j\"))\n",
    "print('Week number of year, Sunday as the first day of week, 00-53 ' + x.strftime(\"%U\"))\n",
    "print('Week number of year, Monday as the first day of week, 00-53 ' + x.strftime(\"%W\"))\n",
    "print('Century ' + x.strftime(\"%C\"))\n",
    "print('Local version of date ' + x.strftime(\"%x\"))\n",
    "print('Local version of time ' + x.strftime(\"%X\"))\n"
   ]
  },
  {
   "cell_type": "code",
   "execution_count": 78,
   "metadata": {},
   "outputs": [
    {
     "name": "stdout",
     "output_type": "stream",
     "text": [
      "Min value is 10\n",
      "Max value is 50\n",
      "abs/positive value is 7.25 7.89\n",
      "power value is 10000\n",
      "pi value is 3.14\n",
      "sqrt value is 8.83\n",
      "sqrt value is 8.0\n",
      "ceil is 2\n",
      "floor is 1\n"
     ]
    }
   ],
   "source": [
    "#python math\n",
    "import math\n",
    "print('Min value is',min(10,20,50))\n",
    "print('Max value is',max(10,20,50))\n",
    "print('abs/positive value is',abs(-7.25),abs(7.89))\n",
    "print('power value is',pow(10,4))\n",
    "print('pi value is',f\"{math.pi:0.3}\")\n",
    "print('sqrt value is',f\"{math.sqrt(78):0.3}\")\n",
    "print('sqrt value is',f\"{math.sqrt(64):0.3}\")\n",
    "print('ceil is',math.ceil(1.6))\n",
    "print('floor is',math.floor(1.6))"
   ]
  },
  {
   "cell_type": "code",
   "execution_count": 104,
   "metadata": {},
   "outputs": [
    {
     "name": "stdout",
     "output_type": "stream",
     "text": [
      "{'name': 'Beena', 'age': 31, 'mobileno': 7840952615}\n",
      "('name', 'Beena')\n",
      "('age', 31)\n",
      "('mobileno', 7840952615)\n",
      "{\"name\": \"Beena\", \"age\": 31, \"mobileno\": 7840952615}\n",
      "{\"name\": \"John\", \"age\": 30}\n",
      "[\"apple\", \"bananas\"]\n",
      "[\"apple\", \"bananas\"]\n",
      "\"hello\"\n",
      "42\n",
      "31.76\n",
      "true\n",
      "false\n",
      "null\n",
      "BMW 230\n",
      "{\n",
      "    \"name\": \"John\",\n",
      "    \"age\": 30,\n",
      "    \"married\": true,\n",
      "    \"divorced\": false,\n",
      "    \"children\": [\n",
      "        \"Ann\",\n",
      "        \"Billy\"\n",
      "    ],\n",
      "    \"pets\": null,\n",
      "    \"cars\": [\n",
      "        {\n",
      "            \"model\": \"BMW 230\",\n",
      "            \"mpg\": 27.5\n",
      "        },\n",
      "        {\n",
      "            \"model\": \"Ford Edge\",\n",
      "            \"mpg\": 24.1\n",
      "        }\n",
      "    ]\n",
      "}\n",
      "{\n",
      "    \"age\": 30,\n",
      "    \"cars\": [\n",
      "        {\n",
      "            \"model\": \"BMW 230\",\n",
      "            \"mpg\": 27.5\n",
      "        },\n",
      "        {\n",
      "            \"model\": \"Ford Edge\",\n",
      "            \"mpg\": 24.1\n",
      "        }\n",
      "    ],\n",
      "    \"children\": [\n",
      "        \"Ann\",\n",
      "        \"Billy\"\n",
      "    ],\n",
      "    \"divorced\": false,\n",
      "    \"married\": true,\n",
      "    \"name\": \"John\",\n",
      "    \"pets\": null\n",
      "}\n"
     ]
    }
   ],
   "source": [
    "#Python Json\n",
    "\n",
    "import json\n",
    "personDetails = '{\"name\":\"Beena\",\"age\":31,\"mobileno\":7840952615}'\n",
    "#parse\n",
    "x = json.loads(personDetails) #JSON to Python\n",
    "print(x)\n",
    "for i in x.items():print (i)\n",
    "#Python to JSON\n",
    "personDetails = json.dumps(x)\n",
    "print(personDetails)\n",
    "print(json.dumps({\"name\": \"John\", \"age\": 30}))\n",
    "print(json.dumps([\"apple\", \"bananas\"]))\n",
    "print(json.dumps((\"apple\", \"bananas\")))\n",
    "print(json.dumps(\"hello\"))\n",
    "print(json.dumps(42))\n",
    "print(json.dumps(31.76))\n",
    "print(json.dumps(True))\n",
    "print(json.dumps(False))\n",
    "print(json.dumps(None))\n",
    "x = {\n",
    "  \"name\": \"John\",\n",
    "  \"age\": 30,\n",
    "  \"married\": True,\n",
    "  \"divorced\": False,\n",
    "  \"children\": (\"Ann\",\"Billy\"),\n",
    "  \"pets\": None,\n",
    "  \"cars\": [\n",
    "    {\"model\": \"BMW 230\", \"mpg\": 27.5},\n",
    "    {\"model\": \"Ford Edge\", \"mpg\": 24.1}\n",
    "  ]\n",
    "}\n",
    "print(x[\"cars\"][0][\"model\"])\n",
    "y = json.dumps(x)\n",
    "\n",
    "#format indent\n",
    "y = json.dumps(x,indent=4)\n",
    "print(y)\n",
    "#Order the Result\n",
    "y = json.dumps(x, indent=4, sort_keys=True)\n",
    "print(y)"
   ]
  },
  {
   "cell_type": "code",
   "execution_count": null,
   "metadata": {},
   "outputs": [],
   "source": []
  }
 ],
 "metadata": {
  "kernelspec": {
   "display_name": "Python 3",
   "language": "python",
   "name": "python3"
  },
  "language_info": {
   "codemirror_mode": {
    "name": "ipython",
    "version": 3
   },
   "file_extension": ".py",
   "mimetype": "text/x-python",
   "name": "python",
   "nbconvert_exporter": "python",
   "pygments_lexer": "ipython3",
   "version": "3.7.6"
  }
 },
 "nbformat": 4,
 "nbformat_minor": 4
}
