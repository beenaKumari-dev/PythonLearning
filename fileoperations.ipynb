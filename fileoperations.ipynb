{
 "cells": [
  {
   "cell_type": "code",
   "execution_count": 19,
   "metadata": {},
   "outputs": [
    {
     "name": "stdout",
     "output_type": "stream",
     "text": [
      "This is demo file.\n",
      "This is first line of demo file\n",
      "This is second line of demo file\n",
      "This is third line of demo file\n",
      "This is demo file.\n",
      "This is first line of demo file\n",
      "This is second line of demo file\n",
      "This is third line of demo file\n",
      "This is demo file.\n",
      "This is first line of demo file\n",
      "This is second line of demo file\n",
      "This is third line of demo file\n",
      "This i\n",
      "This is demo file.\n",
      "\n",
      "This is first line of demo file\n",
      "\n",
      "This is demo file.\n",
      "\n",
      "This is first line of demo file\n",
      "\n",
      "This is second line of demo file\n",
      "\n",
      "This is third line of demo file\n"
     ]
    }
   ],
   "source": [
    "#Read file \n",
    "f = open(\"demofile.txt\",\"r\")\n",
    "print (f.read())\n",
    "f = open(\"demofile.txt\") #default r and t text mode\n",
    "print (f.read())\n",
    "#other way to read file\n",
    "with open(\"demofile.txt\",'r') as f:\n",
    "    print(f.read())\n",
    "    f.close()\n",
    "#read some parts of file\n",
    "with open(\"demofile.txt\",'r') as f:\n",
    "    print(f.read(6))\n",
    "    f.close()\n",
    "#Read Lines\n",
    "with open(\"demofile.txt\",'r') as f:\n",
    "    print(f.readline())#first\n",
    "    print(f.readline())#second line\n",
    "with open(\"demofile.txt\",'r') as f:\n",
    "    for x in f:\n",
    "        print(x)\n",
    "    f.close()"
   ]
  },
  {
   "cell_type": "code",
   "execution_count": 22,
   "metadata": {},
   "outputs": [
    {
     "name": "stdout",
     "output_type": "stream",
     "text": [
      "This is demo file.\n",
      "This is first line of demo file\n",
      "This is second line of demo file\n",
      "This is third line of demo fileNow the file has more content!Now the file has more content!Now the file has more content!\n",
      "This is new file fo write method!\n"
     ]
    }
   ],
   "source": [
    "#write and append\n",
    "with open(\"demofile.txt\", \"a\") as f:\n",
    "    f.write(\"Now the file has more content!\")\n",
    "    f.close()\n",
    "with open('demofile.txt') as f:\n",
    "    print(f.read())\n",
    "    f.close()\n",
    "\n",
    "with open(\"demofile1.txt\", \"w\") as f:\n",
    "    f.write(\"This is new file fo write method!\")\n",
    "    f.close()\n",
    "with open('demofile1.txt') as f:\n",
    "    print(f.read())\n",
    "    f.close()"
   ]
  },
  {
   "cell_type": "code",
   "execution_count": 23,
   "metadata": {},
   "outputs": [
    {
     "ename": "FileNotFoundError",
     "evalue": "[Errno 2] No such file or directory: 'demofile1.txt'",
     "output_type": "error",
     "traceback": [
      "\u001b[1;31m---------------------------------------------------------------------------\u001b[0m",
      "\u001b[1;31mFileNotFoundError\u001b[0m                         Traceback (most recent call last)",
      "\u001b[1;32m<ipython-input-23-1d9c8cc1fbe8>\u001b[0m in \u001b[0;36m<module>\u001b[1;34m\u001b[0m\n\u001b[0;32m      1\u001b[0m \u001b[1;32mimport\u001b[0m \u001b[0mos\u001b[0m\u001b[1;33m\u001b[0m\u001b[1;33m\u001b[0m\u001b[0m\n\u001b[0;32m      2\u001b[0m \u001b[0mos\u001b[0m\u001b[1;33m.\u001b[0m\u001b[0mremove\u001b[0m\u001b[1;33m(\u001b[0m\u001b[1;34m\"demofile1.txt\"\u001b[0m\u001b[1;33m)\u001b[0m\u001b[1;33m\u001b[0m\u001b[1;33m\u001b[0m\u001b[0m\n\u001b[1;32m----> 3\u001b[1;33m \u001b[1;32mwith\u001b[0m \u001b[0mopen\u001b[0m\u001b[1;33m(\u001b[0m\u001b[1;34m'demofile1.txt'\u001b[0m\u001b[1;33m)\u001b[0m \u001b[1;32mas\u001b[0m \u001b[0mf\u001b[0m\u001b[1;33m:\u001b[0m\u001b[1;33m\u001b[0m\u001b[1;33m\u001b[0m\u001b[0m\n\u001b[0m\u001b[0;32m      4\u001b[0m     \u001b[0mprint\u001b[0m\u001b[1;33m(\u001b[0m\u001b[0mf\u001b[0m\u001b[1;33m.\u001b[0m\u001b[0mread\u001b[0m\u001b[1;33m(\u001b[0m\u001b[1;33m)\u001b[0m\u001b[1;33m)\u001b[0m\u001b[1;33m\u001b[0m\u001b[1;33m\u001b[0m\u001b[0m\n\u001b[0;32m      5\u001b[0m     \u001b[0mf\u001b[0m\u001b[1;33m.\u001b[0m\u001b[0mclose\u001b[0m\u001b[1;33m(\u001b[0m\u001b[1;33m)\u001b[0m\u001b[1;33m\u001b[0m\u001b[1;33m\u001b[0m\u001b[0m\n",
      "\u001b[1;31mFileNotFoundError\u001b[0m: [Errno 2] No such file or directory: 'demofile1.txt'"
     ]
    }
   ],
   "source": [
    "import os\n",
    "os.remove(\"demofile1.txt\")\n",
    "with open('demofile1.txt') as f:\n",
    "    print(f.read())\n",
    "    f.close()"
   ]
  },
  {
   "cell_type": "code",
   "execution_count": null,
   "metadata": {},
   "outputs": [],
   "source": [
    "import os\n",
    "\n",
    "if os.path.exists('demofile1.txt'):\n",
    "    print('present')\n",
    "else:\n",
    "    print('not')"
   ]
  }
 ],
 "metadata": {
  "kernelspec": {
   "display_name": "Python 3",
   "language": "python",
   "name": "python3"
  },
  "language_info": {
   "codemirror_mode": {
    "name": "ipython",
    "version": 3
   },
   "file_extension": ".py",
   "mimetype": "text/x-python",
   "name": "python",
   "nbconvert_exporter": "python",
   "pygments_lexer": "ipython3",
   "version": "3.7.6"
  }
 },
 "nbformat": 4,
 "nbformat_minor": 4
}
