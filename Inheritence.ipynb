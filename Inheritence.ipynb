{
 "cells": [
  {
   "cell_type": "code",
   "execution_count": 13,
   "metadata": {},
   "outputs": [
    {
     "name": "stdout",
     "output_type": "stream",
     "text": [
      "This is fruit parent class\n",
      "My color is orange , sweet is my taste and 45 /kg is the price\n"
     ]
    }
   ],
   "source": [
    "#Single Inheritence A class inherits from only one parent class.\n",
    "class Fruits:\n",
    "    def __init__(self,color,taste,price):\n",
    "        self.color = color\n",
    "        self.taste = taste\n",
    "        self.price = price\n",
    "\n",
    "    def func1(self):\n",
    "        print('This is fruit parent class')\n",
    "        return f\"My color is {self.color} , {self.taste} is my taste and {self.price} /kg is the price\"\n",
    "        \n",
    "obj1 = Fruits('orange','sweet',45)\n",
    "print(obj1.func1())"
   ]
  },
  {
   "cell_type": "code",
   "execution_count": 3,
   "metadata": {},
   "outputs": [
    {
     "name": "stdout",
     "output_type": "stream",
     "text": [
      "<__main__.Mango object at 0x0000020666855EC8>\n"
     ]
    }
   ],
   "source": [
    "class Mango:\n",
    "    pass\n",
    "\n",
    "childobj = Mango()\n",
    "print(childobj)"
   ]
  },
  {
   "cell_type": "code",
   "execution_count": 14,
   "metadata": {},
   "outputs": [
    {
     "name": "stdout",
     "output_type": "stream",
     "text": [
      "This is fruit parent class\n",
      "My color is apple , sweet is my taste and 230 /kg is the price\n"
     ]
    }
   ],
   "source": [
    "class Mango(Fruits):\n",
    "    pass\n",
    "childobj = Mango('apple','sweet',230)\n",
    "print(childobj.func1())"
   ]
  },
  {
   "cell_type": "code",
   "execution_count": 16,
   "metadata": {},
   "outputs": [
    {
     "name": "stdout",
     "output_type": "stream",
     "text": [
      "This is fruit child class\n",
      "My color is green , bitter is my taste and 100 /kg is the price\n"
     ]
    }
   ],
   "source": [
    "# The child's __init__() function overrides the inheritance of the parent's __init__() function.\n",
    "class Mango(Fruits):\n",
    "    def __init__(self,taste,price,color):\n",
    "        self.color = 'green'\n",
    "        self.taste = 'bitter'\n",
    "        self.price = 100\n",
    "    def func1(self):\n",
    "        print('This is fruit child class')\n",
    "        return f\"My color is {self.color} , {self.taste} is my taste and {self.price} /kg is the price\"\n",
    "\n",
    "childobj = Mango('apple','sweet',230)\n",
    "print(childobj.func1())"
   ]
  },
  {
   "cell_type": "code",
   "execution_count": 35,
   "metadata": {},
   "outputs": [
    {
     "name": "stdout",
     "output_type": "stream",
     "text": [
      "This is fruit child class\n",
      "My color is apple , sweet is my taste and 230 /kg is the price and iam 10cm long\n",
      "10cm\n"
     ]
    }
   ],
   "source": [
    "#super() function that will make the child class inherit all the methods and properties from its parent\n",
    "class Mango(Fruits):\n",
    "    def __init__(self,taste,price,color):\n",
    "        self.taste ='sweet'\n",
    "        super().__init__(taste,price,color)\n",
    "        self.size = '10cm'\n",
    "    \n",
    "    def func1(self):\n",
    "        print('This is fruit child class')\n",
    "        return f\"My color is {self.color} , {self.taste} is my taste and {self.price} /kg is the price and iam {self.size} long\"\n",
    "\n",
    "childobj = Mango('apple','sweet',230)\n",
    "print(childobj.func1())\n",
    "print(childobj.size)"
   ]
  },
  {
   "cell_type": "code",
   "execution_count": 58,
   "metadata": {},
   "outputs": [
    {
     "name": "stdout",
     "output_type": "stream",
     "text": [
      "Iam a child1 Class\n",
      "Iam a Mother Class\n",
      "Mother Beena and age is 31\n",
      "Iam a Father Class\n",
      "Father Beena and age is 31\n"
     ]
    }
   ],
   "source": [
    "#multiple Inheritence  A class inherits from multiple parent classes.\n",
    "class Person:\n",
    "    def __init__(self,name,age):\n",
    "        self.name = name\n",
    "        self.age = age\n",
    "    \n",
    "    def printfunc(self):\n",
    "        print('Iam a Parent Class')\n",
    "\n",
    "class Mother:\n",
    "    motherName = \"\"\n",
    "    motherAge = \"\"\n",
    "    \n",
    "    def printfuncMother(self):\n",
    "        print('Iam a Mother Class')\n",
    "        return f\"Mother {self.motherName} and age is {self.motherAge}\"\n",
    "\n",
    "class Father:\n",
    "    fatherName = \"\"\n",
    "    fatherAge = \"\"\n",
    "    \n",
    "    def printfuncFather(self):\n",
    "        print('Iam a Father Class')\n",
    "        return f\"Father {self.fatherName} and age is {self.fatherAge}\"\n",
    "        \n",
    "class Child1(Mother,Father):\n",
    "    child1Name = \"\"\n",
    "    child1Age = \"\"\n",
    "    def printfuncChdil1(self):\n",
    "        print('Iam a child1 Class')\n",
    "        return f\"Child 1 {self.child1Name} and age is {self.child1Age}\"\n",
    "    \n",
    "obj1 = Child1()\n",
    "obj1.child1Name = 'Ashvika'\n",
    "obj1.child1Age = 2\n",
    "obj1.motherName,obj1.motherAge = 'Beena',31\n",
    "obj1.fatherName,obj1.fatherAge = 'Beena',31\n",
    "obj1.printfuncChdil1()\n",
    "print(obj1.printfuncMother())\n",
    "print(obj1.printfuncFather())\n",
    "        "
   ]
  },
  {
   "cell_type": "code",
   "execution_count": 82,
   "metadata": {},
   "outputs": [
    {
     "name": "stdout",
     "output_type": "stream",
     "text": [
      "Parent/Base class\n",
      "We are Grand Parents\n",
      "GrandParents name  are : Binay Neelam\n",
      "Intermediate class\n",
      "We are Parents\n",
      "Parents name are : Nitish Beena\n",
      "Iam a child1 Class\n",
      "GrandParents name  are : Binay Neelam\n",
      "Parents name are : Nitish Beena\n",
      "Myself Ashvika and age is 2\n"
     ]
    }
   ],
   "source": [
    "#multilevel Inheritence  A class inherits from a parent class, which in turn inherits from another class.\n",
    "class GrandParents:\n",
    "    def __init__(self,grandfathername,grandmothername):\n",
    "        self.grandfathername = grandfathername\n",
    "        self.grandmothername = grandmothername    \n",
    "    def printgrandParents(self):\n",
    "        print('Parent/Base class')\n",
    "        print('We are Grand Parents')\n",
    "        print('GrandParents name  are :', self.grandfathername, self.grandmothername)\n",
    "class Parents(GrandParents):\n",
    "    def __init__(self,fathername,mothername,grandfathername,grandmothername):\n",
    "        self.fathername = fathername\n",
    "        self.mothername = mothername\n",
    "        # invoking constructor of Grandfather class\n",
    "        GrandParents.__init__(self, grandfathername,grandmothername)\n",
    "        GrandParents.printgrandParents(self)\n",
    "    def printParents(self):\n",
    "        print('Intermediate class')\n",
    "        print('We are Parents')\n",
    "        print(\"Parents name are :\", self.fathername, self.mothername)\n",
    "\n",
    "class Child(Parents):\n",
    "    def __init__(self,name,age,fathername,mothername,grandfathername,grandmothername):\n",
    "        self.name = name\n",
    "        self.age = age\n",
    "        # invoking constructor of Grandfather class\n",
    "        Parents.__init__(self, fathername,mothername,grandfathername,grandmothername)\n",
    "        Parents.printParents(self)\n",
    "    def printfunc(self):\n",
    "        print('Iam a child1 Class')\n",
    "        print('GrandParents name  are :', self.grandfathername, self.grandmothername)\n",
    "        print(\"Parents name are :\", self.fathername, self.mothername)\n",
    "        return f\"Myself {self.name} and age is {self.age}\"\n",
    "  \n",
    "\n",
    "obj1 = Child('Ashvika',2,'Nitish','Beena','Binay','Neelam')\n",
    "print(obj1.printfunc())\n",
    "\n",
    "        "
   ]
  },
  {
   "cell_type": "code",
   "execution_count": 90,
   "metadata": {},
   "outputs": [
    {
     "name": "stdout",
     "output_type": "stream",
     "text": [
      "Iam a child1 Class\n",
      "Iam a Mother Class\n",
      "Mother Beena and age is 31\n",
      "Iam a Father Class\n",
      "Father Beena and age is 31\n",
      "Iam a child2 Class\n",
      "Iam a Mother Class\n",
      "Mother Beena and age is 31\n",
      "Iam a Father Class\n",
      "Father Beena and age is 31\n"
     ]
    }
   ],
   "source": [
    "#Hierarchical Inheritance: Multiple classes inherit from a single parent class.\n",
    "class Mother:\n",
    "    motherName = \"\"\n",
    "    motherAge = \"\"\n",
    "    \n",
    "    def printfuncMother(self):\n",
    "        print('Iam a Mother Class')\n",
    "        return f\"Mother {self.motherName} and age is {self.motherAge}\"\n",
    "\n",
    "class Father:\n",
    "    fatherName = \"\"\n",
    "    fatherAge = \"\"\n",
    "    \n",
    "    def printfuncFather(self):\n",
    "        print('Iam a Father Class')\n",
    "        return f\"Father {self.fatherName} and age is {self.fatherAge}\"\n",
    "        \n",
    "class Child1(Mother,Father):\n",
    "    child1Name = \"\"\n",
    "    child1Age = \"\"\n",
    "    def printfuncChdil1(self):\n",
    "        print('Iam a child1 Class')\n",
    "        return f\"Child 1 {self.child1Name} and age is {self.child1Age}\"\n",
    "\n",
    "class Child2(Mother,Father):\n",
    "    child1Name = \"\"\n",
    "    child1Age = \"\"\n",
    "    def printfuncChdil1(self):\n",
    "        print('Iam a child2 Class')\n",
    "        return f\"Child 2 {self.child1Name} and age is {self.child1Age}\"\n",
    "obj1 = Child1()\n",
    "obj1.child1Name = 'Ashvika'\n",
    "obj1.child1Age = 2\n",
    "obj1.motherName,obj1.motherAge = 'Beena',31\n",
    "obj1.fatherName,obj1.fatherAge = 'Beena',31\n",
    "obj1.printfuncChdil1()\n",
    "print(obj1.printfuncMother())\n",
    "print(obj1.printfuncFather())\n",
    "obj1 = Child2()\n",
    "obj1.child1Name = 'NA'\n",
    "obj1.child1Age = 0\n",
    "obj1.motherName,obj1.motherAge = 'Beena',31\n",
    "obj1.fatherName,obj1.fatherAge = 'Beena',31\n",
    "obj1.printfuncChdil1()\n",
    "print(obj1.printfuncMother())\n",
    "print(obj1.printfuncFather())\n"
   ]
  },
  {
   "cell_type": "code",
   "execution_count": 96,
   "metadata": {},
   "outputs": [
    {
     "name": "stdout",
     "output_type": "stream",
     "text": [
      "1\n",
      "2\n",
      "3\n"
     ]
    }
   ],
   "source": [
    "#Create Iterator\n",
    "class MyNumber:\n",
    "    def __iter__(self):\n",
    "        self.a = 1\n",
    "        return self\n",
    "    \n",
    "    def __next__(self):\n",
    "        x = self.a\n",
    "        self.a += 1\n",
    "        return x\n",
    "    \n",
    "myclass = MyNumber()\n",
    "obj = iter(myclass)\n",
    "print(next(obj))\n",
    "print(next(obj))\n",
    "print(next(obj))"
   ]
  },
  {
   "cell_type": "code",
   "execution_count": 2,
   "metadata": {},
   "outputs": [
    {
     "name": "stdout",
     "output_type": "stream",
     "text": [
      "1\n",
      "2\n",
      "3\n",
      "4\n",
      "5\n",
      "6\n",
      "7\n",
      "8\n",
      "9\n",
      "10\n",
      "11\n",
      "12\n",
      "13\n",
      "14\n",
      "15\n",
      "16\n",
      "17\n",
      "18\n",
      "19\n",
      "20\n"
     ]
    }
   ],
   "source": [
    "#StopIteration :To prevent the iteration from going on forever, we can use the StopIteration statement\n",
    "class MyNumber:\n",
    "    def __iter__(self):\n",
    "        self.a = 1\n",
    "        return self\n",
    "    \n",
    "    def __next__(self):\n",
    "        if self.a <= 20:\n",
    "            x = self.a\n",
    "            self.a += 1\n",
    "            return x\n",
    "        else:\n",
    "            raise StopIteration\n",
    "myclass = MyNumber()\n",
    "obj = iter(myclass)\n",
    "for x in obj:\n",
    "    print(x)"
   ]
  },
  {
   "cell_type": "code",
   "execution_count": 8,
   "metadata": {},
   "outputs": [
    {
     "name": "stdout",
     "output_type": "stream",
     "text": [
      "Mother is Beena age is 31\n",
      "Baby is Ashvika age is 2\n"
     ]
    }
   ],
   "source": [
    "#Polymorphism: same name that can be executed on many objects or classes\n",
    "class Parents:\n",
    "    def __init__(self,name,age):\n",
    "        self.name = name\n",
    "        self.age = age\n",
    "    def printDetails(self):\n",
    "        print('Mother is '+ self.name +' age is '+ str(self.age))\n",
    "        \n",
    "class Child:\n",
    "    def __init__(self,name,age):\n",
    "        self.name = name\n",
    "        self.age = age\n",
    "    def printDetails(self):\n",
    "        print('Baby is '+ self.name +' age is '+ str(self.age))\n",
    "\n",
    "myclass = Parents('Beena',31)\n",
    "myclass.printDetails()\n",
    "myclass = Child('Ashvika',2)\n",
    "myclass.printDetails()"
   ]
  },
  {
   "cell_type": "code",
   "execution_count": 13,
   "metadata": {},
   "outputs": [
    {
     "name": "stdout",
     "output_type": "stream",
     "text": [
      "Mother is Beena age is 31\n",
      "Baby is Ashvika age is 2\n"
     ]
    }
   ],
   "source": [
    "#Inheritance Class Polymorphism: overrides parents class\n",
    "class Parents:\n",
    "    def __init__(self,name,age):\n",
    "        self.name = name\n",
    "        self.age = age\n",
    "    def printDetails(self):\n",
    "        print('Mother is '+ self.name +' age is '+ str(self.age))\n",
    "        \n",
    "class Child(Parents):\n",
    "    def __init__(self,name,age):\n",
    "        self.name = name\n",
    "        self.age = age\n",
    "    def printDetails(self):\n",
    "        print('Baby is '+ self.name +' age is '+ str(self.age))\n",
    "class1 = Parents('Beena',31)\n",
    "class2 = Child('Ashvika',2)\n",
    "for x in (class1,class2):\n",
    "    x.printDetails() #as child class is inheriting method from parent it override printdetails\n"
   ]
  },
  {
   "cell_type": "code",
   "execution_count": null,
   "metadata": {},
   "outputs": [],
   "source": []
  }
 ],
 "metadata": {
  "kernelspec": {
   "display_name": "Python 3",
   "language": "python",
   "name": "python3"
  },
  "language_info": {
   "codemirror_mode": {
    "name": "ipython",
    "version": 3
   },
   "file_extension": ".py",
   "mimetype": "text/x-python",
   "name": "python",
   "nbconvert_exporter": "python",
   "pygments_lexer": "ipython3",
   "version": "3.7.6"
  }
 },
 "nbformat": 4,
 "nbformat_minor": 4
}
